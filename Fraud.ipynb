{
 "cells": [
  {
   "cell_type": "code",
   "execution_count": 1,
   "metadata": {
    "collapsed": false
   },
   "outputs": [],
   "source": [
    "import pandas as pd\n",
    "import numpy as np\n",
    "import pylab as py\n",
    "\n",
    "%matplotlib inline\n",
    "\n",
    "fdata = pd.read_csv(\"Fraud_Data.csv\")\n",
    "ipdata = pd.read_csv(\"IpAddress_to_Country.csv\")\n",
    "\n",
    "# convert timestamp string to pd.timestamp\n",
    "fdata.signup_time = fdata.signup_time.apply(pd.Timestamp)\n",
    "fdata.purchase_time = fdata.purchase_time.apply(pd.Timestamp)\n",
    "\n",
    "# rename class because that's a reserved word\n",
    "fdata.rename(columns={'class':'fraud'}, inplace=True)"
   ]
  },
  {
   "cell_type": "code",
   "execution_count": 45,
   "metadata": {
    "collapsed": false
   },
   "outputs": [
    {
     "data": {
      "text/html": [
       "<div>\n",
       "<table border=\"1\" class=\"dataframe\">\n",
       "  <thead>\n",
       "    <tr style=\"text-align: right;\">\n",
       "      <th></th>\n",
       "      <th>user_id</th>\n",
       "      <th>signup_time</th>\n",
       "      <th>purchase_time</th>\n",
       "      <th>purchase_value</th>\n",
       "      <th>device_id</th>\n",
       "      <th>source</th>\n",
       "      <th>browser</th>\n",
       "      <th>sex</th>\n",
       "      <th>age</th>\n",
       "      <th>ip_address</th>\n",
       "      <th>fraud</th>\n",
       "    </tr>\n",
       "  </thead>\n",
       "  <tbody>\n",
       "    <tr>\n",
       "      <th>0</th>\n",
       "      <td>22058</td>\n",
       "      <td>2015-02-24 22:55:49</td>\n",
       "      <td>2015-04-18 02:47:11</td>\n",
       "      <td>34</td>\n",
       "      <td>QVPSPJUOCKZAR</td>\n",
       "      <td>SEO</td>\n",
       "      <td>Chrome</td>\n",
       "      <td>M</td>\n",
       "      <td>39</td>\n",
       "      <td>7.327584e+08</td>\n",
       "      <td>0</td>\n",
       "    </tr>\n",
       "  </tbody>\n",
       "</table>\n",
       "</div>"
      ],
      "text/plain": [
       "   user_id         signup_time       purchase_time  purchase_value  \\\n",
       "0    22058 2015-02-24 22:55:49 2015-04-18 02:47:11              34   \n",
       "\n",
       "       device_id source browser sex  age    ip_address  fraud  \n",
       "0  QVPSPJUOCKZAR    SEO  Chrome   M   39  7.327584e+08      0  "
      ]
     },
     "execution_count": 45,
     "metadata": {},
     "output_type": "execute_result"
    }
   ],
   "source": [
    "fdata.head(1)"
   ]
  },
  {
   "cell_type": "code",
   "execution_count": 46,
   "metadata": {
    "collapsed": false
   },
   "outputs": [
    {
     "data": {
      "text/html": [
       "<div>\n",
       "<table border=\"1\" class=\"dataframe\">\n",
       "  <thead>\n",
       "    <tr style=\"text-align: right;\">\n",
       "      <th></th>\n",
       "      <th>lower_bound_ip_address</th>\n",
       "      <th>upper_bound_ip_address</th>\n",
       "      <th>country</th>\n",
       "    </tr>\n",
       "  </thead>\n",
       "  <tbody>\n",
       "    <tr>\n",
       "      <th>0</th>\n",
       "      <td>16777216.0</td>\n",
       "      <td>16777471</td>\n",
       "      <td>Australia</td>\n",
       "    </tr>\n",
       "  </tbody>\n",
       "</table>\n",
       "</div>"
      ],
      "text/plain": [
       "   lower_bound_ip_address  upper_bound_ip_address    country\n",
       "0              16777216.0                16777471  Australia"
      ]
     },
     "execution_count": 46,
     "metadata": {},
     "output_type": "execute_result"
    }
   ],
   "source": [
    "ipdata.head(1)"
   ]
  },
  {
   "cell_type": "code",
   "execution_count": 47,
   "metadata": {
    "collapsed": false
   },
   "outputs": [
    {
     "name": "stdout",
     "output_type": "stream",
     "text": [
      "(151112, 11) (138846, 3)\n"
     ]
    }
   ],
   "source": [
    "print fdata.shape, ipdata.shape"
   ]
  },
  {
   "cell_type": "code",
   "execution_count": 48,
   "metadata": {
    "collapsed": false
   },
   "outputs": [
    {
     "name": "stdout",
     "output_type": "stream",
     "text": [
      "Empty DataFrame\n",
      "Columns: [user_id, signup_time, purchase_time, purchase_value, device_id, source, browser, sex, age, ip_address, fraud]\n",
      "Index: []\n"
     ]
    }
   ],
   "source": [
    "## confirm user_id is unique across rows\n",
    "print fdata.loc[fdata.duplicated('user_id')]"
   ]
  },
  {
   "cell_type": "code",
   "execution_count": 49,
   "metadata": {
    "collapsed": false
   },
   "outputs": [
    {
     "name": "stdout",
     "output_type": "stream",
     "text": [
      "1.0\n"
     ]
    }
   ],
   "source": [
    "## confirm there is no overlap in ip address\n",
    "ipdata.sort_values(by='lower_bound_ip_address', inplace=True)\n",
    "diff = ipdata.shift(-1).lower_bound_ip_address-ipdata.upper_bound_ip_address\n",
    "print diff.min()"
   ]
  },
  {
   "cell_type": "code",
   "execution_count": 2,
   "metadata": {
    "collapsed": false
   },
   "outputs": [],
   "source": [
    "## assign country using searchsorted function\n",
    "start_idx = np.searchsorted(ipdata['lower_bound_ip_address'], fdata['ip_address'], side='right')-1\n",
    "end_idx = np.searchsorted(ipdata['upper_bound_ip_address'], fdata['ip_address'])\n",
    "fdata['idx'] = [x if x==y else -1 for x, y in zip(start_idx, end_idx)]\n",
    "ipdata['idx'] = ipdata.index\n",
    "\n",
    "mdata = fdata.merge(ipdata, how='left', on='idx').drop(['user_id','lower_bound_ip_address', 'upper_bound_ip_address','idx'],axis=1)\n",
    "mdata['country'] = mdata['country'].apply(lambda x: 'NA' if pd.isnull(x) else x)"
   ]
  },
  {
   "cell_type": "code",
   "execution_count": 52,
   "metadata": {
    "collapsed": false
   },
   "outputs": [
    {
     "data": {
      "text/plain": [
       "United States     58049\n",
       "NA                21966\n",
       "China             12038\n",
       "Japan              7306\n",
       "United Kingdom     4490\n",
       "Name: country, dtype: int64"
      ]
     },
     "execution_count": 52,
     "metadata": {},
     "output_type": "execute_result"
    }
   ],
   "source": [
    "mdata.country.value_counts()[0:5]"
   ]
  },
  {
   "cell_type": "markdown",
   "metadata": {},
   "source": [
    "## This creates a table with country attached"
   ]
  },
  {
   "cell_type": "code",
   "execution_count": 3,
   "metadata": {
    "collapsed": false
   },
   "outputs": [],
   "source": [
    "# add time-related info\n",
    "mdata['lapsed_time'] = mdata.purchase_time - mdata.signup_time\n",
    "mdata['lapsed_secs'] = mdata.lapsed_time.apply(lambda x: x.seconds) #ints are easier to work with\n",
    "\n",
    "mdata['signup_mon'] = mdata.signup_time.apply(lambda x: x.month)\n",
    "mdata['purchase_mon'] = mdata.purchase_time.apply(lambda x: x.month)\n",
    "mdata['signup_weekday'] = mdata.signup_time.apply(lambda x: x.weekday())\n",
    "mdata['purchase_weekday'] = mdata.purchase_time.apply(lambda x: x.weekday())\n",
    "\n",
    "# add unique counts\n",
    "mdata['device_counts'] = mdata.groupby('device_id')['fraud'].transform('count')\n",
    "mdata['ip_counts'] = mdata.groupby('ip_address')['fraud'].transform('count')"
   ]
  },
  {
   "cell_type": "code",
   "execution_count": 54,
   "metadata": {
    "collapsed": false
   },
   "outputs": [
    {
     "name": "stdout",
     "output_type": "stream",
     "text": [
      "(151112, 19)\n"
     ]
    }
   ],
   "source": [
    "print mdata.shape"
   ]
  },
  {
   "cell_type": "code",
   "execution_count": 55,
   "metadata": {
    "collapsed": false
   },
   "outputs": [
    {
     "data": {
      "text/plain": [
       "0    136961\n",
       "1     14151\n",
       "Name: fraud, dtype: int64"
      ]
     },
     "execution_count": 55,
     "metadata": {},
     "output_type": "execute_result"
    }
   ],
   "source": [
    "mdata.fraud.value_counts(dropna=False)"
   ]
  },
  {
   "cell_type": "code",
   "execution_count": 60,
   "metadata": {
    "collapsed": false
   },
   "outputs": [
    {
     "name": "stdout",
     "output_type": "stream",
     "text": [
      "LEGEND: red means fraud is true, green means fraud is false.\n",
      "        total  fraud      rate\n",
      "source                        \n",
      "Ads     59881   5513  0.092066\n",
      "Direct  30616   3226  0.105370\n",
      "SEO     60615   5412  0.089285\n",
      "         total  fraud      rate\n",
      "browser                        \n",
      "Chrome   61432   6069  0.098792\n",
      "FireFox  24610   2342  0.095165\n",
      "IE       36727   3187  0.086775\n",
      "Opera     3676    328  0.089227\n",
      "Safari   24667   2225  0.090201\n",
      "     total  fraud      rate\n",
      "sex                        \n",
      "F    62819   5717  0.091007\n",
      "M    88293   8434  0.095523\n",
      "     total  fraud      rate\n",
      "age                        \n",
      "18    2762    270  0.097755\n",
      "19    2906    242  0.083276\n",
      "20    3367    308  0.091476\n",
      "21    3735    289  0.077376\n",
      "22    4093    378  0.092353\n",
      "             total  fraud      rate\n",
      "lapsed_secs                        \n",
      "1             7602   7600  0.999737\n",
      "2                3      0  0.000000\n",
      "3                1      0  0.000000\n",
      "4                3      1  0.333333\n",
      "6                1      0  0.000000\n",
      "            total  fraud      rate\n",
      "signup_mon                        \n",
      "1           26978   8494  0.314849\n",
      "2           17535    818  0.046650\n",
      "3           19555    879  0.044950\n",
      "4           18895    872  0.046150\n",
      "5           19338    844  0.043645\n",
      "              total  fraud      rate\n",
      "purchase_mon                        \n",
      "1             10097   7723  0.764881\n",
      "2              6449    291  0.045123\n",
      "3             12090    545  0.045079\n",
      "4             16551    740  0.044710\n",
      "5             19364    921  0.047562\n",
      "                total  fraud      rate\n",
      "device_counts                         \n",
      "1              131781   4010  0.030429\n",
      "2               10654   2440  0.229022\n",
      "3                 270     66  0.244444\n",
      "4                  16     10  0.625000\n",
      "5                  65     52  0.800000\n",
      "            total  fraud      rate\n",
      "ip_counts                         \n",
      "1          142752   6517  0.045653\n",
      "2               2      1  0.500000\n",
      "3               6      4  0.666667\n",
      "4              16     13  0.812500\n",
      "5              65     52  0.800000\n"
     ]
    },
    {
     "data": {
      "image/png": "[encoded data removed]",
      "text/plain": [
       "<matplotlib.figure.Figure at 0x11b5e1950>"
      ]
     },
     "metadata": {},
     "output_type": "display_data"
    }
   ],
   "source": [
    "def bar_hist_plots (data, classvar, examvars, printtable=False):\n",
    "    \n",
    "    class0 = data.loc[data[classvar]==0]\n",
    "    class1 = data.loc[data[classvar]==1]\n",
    "    fig, ax = py.subplots(len(examvars),1, figsize=(6,4*len(examvars)))\n",
    "    \n",
    "    print 'LEGEND: red means', classvar, 'is true, green means', classvar, 'is false.'\n",
    "    \n",
    "    for idx, var in enumerate(examvars):\n",
    "        \n",
    "        # print frequency table with the largest positives\n",
    "        if printtable:\n",
    "            g = data.groupby(var)[classvar]\n",
    "            t = pd.concat([g.count().rename('total'), g.sum(), g.mean().rename('rate')], axis=1)\n",
    "            print t.head()\n",
    "        \n",
    "        # if unique values <= 20, plot bar graph; otherwise plot histogram with 20 bins\n",
    "        if len(data[var].unique())<=20:\n",
    "            freq = pd.concat((class1.groupby(var)[classvar].count(), class0.groupby(var)[classvar].count()), axis=1)\n",
    "            freq.plot(kind='bar', stacked=True, ax=ax[idx], color=['r','g'], legend=False)\n",
    "        else:\n",
    "            ax[idx].hist([class1[var], class0[var]], bins=20, stacked=True, color=['r','g'])\n",
    "            ax[idx].set_title(var)\n",
    "\n",
    "examvars = ['source','browser','sex','age','lapsed_secs','signup_mon','purchase_mon','device_counts','ip_counts']\n",
    "bar_hist_plots (mdata, 'fraud', examvars, True)"
   ]
  },
  {
   "cell_type": "markdown",
   "metadata": {},
   "source": [
    "## If lapsed seconds <= 1, very likely to be fraud. If signup or purchase is in Jan, likely to be fraud. If device or ip counts >=2, very likely to be fraud\n"
   ]
  },
  {
   "cell_type": "code",
   "execution_count": 22,
   "metadata": {
    "collapsed": false
   },
   "outputs": [],
   "source": [
    "top_countries = mdata.country.value_counts()[0:19]\n",
    "mdata['country_top'] = mdata.country.apply(lambda x: x if x in top_countries else 'other')\n",
    "mdata['lapsed_1sec'] = mdata.lapsed_secs<=1"
   ]
  },
  {
   "cell_type": "code",
   "execution_count": 23,
   "metadata": {
    "collapsed": false
   },
   "outputs": [
    {
     "name": "stdout",
     "output_type": "stream",
     "text": [
      "(151112, 30) (151112,)\n"
     ]
    }
   ],
   "source": [
    "X = mdata[['purchase_value','source','sex','age','lapsed_1sec','device_counts','ip_counts','country_top']]\n",
    "X = pd.get_dummies(X)\n",
    "y = np.ravel(mdata[['fraud']])\n",
    "print X.shape, y.shape"
   ]
  },
  {
   "cell_type": "code",
   "execution_count": 24,
   "metadata": {
    "collapsed": false
   },
   "outputs": [
    {
     "name": "stdout",
     "output_type": "stream",
     "text": [
      "{'min_samples_split': 2, 'max_depth': 4}\n",
      "0.69474849342\n",
      "0.710641399417\n",
      "[[102721      0]\n",
      " [  4964   5649]]\n",
      "[[34240     0]\n",
      " [ 1588  1950]]\n"
     ]
    }
   ],
   "source": [
    "from sklearn.ensemble import RandomForestClassifier\n",
    "from sklearn.tree import DecisionTreeClassifier, export_graphviz\n",
    "from sklearn.model_selection import train_test_split\n",
    "from sklearn.metrics import confusion_matrix, f1_score, make_scorer, roc_curve\n",
    "from sklearn.grid_search import GridSearchCV\n",
    "\n",
    "X_train, X_test, y_train, y_test = train_test_split(X, y, stratify=y, random_state=0)\n",
    "\n",
    "dt = DecisionTreeClassifier()\n",
    "f1_scorer = make_scorer(f1_score)\n",
    "\n",
    "params = {'max_depth':[4,5,6,7], 'min_samples_split':[2,3,4]}\n",
    "\n",
    "clf = GridSearchCV(estimator=dt, param_grid=params, scoring=f1_scorer)\n",
    "clf.fit(X_train, y_train)\n",
    "\n",
    "print(clf.best_params_)\n",
    "\n",
    "dt = clf.best_estimator_\n",
    "\n",
    "print f1_score(y_train, dt.predict(X_train))\n",
    "print f1_score(y_test, dt.predict(X_test))\n",
    "\n",
    "print confusion_matrix(y_train, dt.predict(X_train))\n",
    "print confusion_matrix(y_test, dt.predict(X_test))"
   ]
  },
  {
   "cell_type": "code",
   "execution_count": 25,
   "metadata": {
    "collapsed": false
   },
   "outputs": [
    {
     "name": "stdout",
     "output_type": "stream",
     "text": [
      "Feature ranking:\n",
      "1. lapsed_1sec (0.933992)\n",
      "2. device_counts (0.057515)\n",
      "3. source_Direct (0.005313)\n",
      "4. ip_counts (0.002983)\n",
      "5. purchase_value (0.000171)\n",
      "6. age (0.000026)\n",
      "7. country_top_United States (0.000000)\n",
      "8. source_Ads (0.000000)\n",
      "9. source_SEO (0.000000)\n",
      "10. sex_F (0.000000)\n",
      "11. sex_M (0.000000)\n",
      "12. country_top_Australia (0.000000)\n",
      "13. country_top_Brazil (0.000000)\n",
      "14. country_top_Canada (0.000000)\n",
      "15. country_top_China (0.000000)\n",
      "16. country_top_other (0.000000)\n",
      "17. country_top_Germany (0.000000)\n",
      "18. country_top_India (0.000000)\n",
      "19. country_top_Italy (0.000000)\n",
      "20. country_top_Japan (0.000000)\n",
      "21. country_top_Korea Republic of (0.000000)\n",
      "22. country_top_Mexico (0.000000)\n",
      "23. country_top_NA (0.000000)\n",
      "24. country_top_Netherlands (0.000000)\n",
      "25. country_top_Russian Federation (0.000000)\n",
      "26. country_top_Spain (0.000000)\n",
      "27. country_top_Sweden (0.000000)\n",
      "28. country_top_Taiwan; Republic of China (ROC) (0.000000)\n",
      "29. country_top_United Kingdom (0.000000)\n",
      "30. country_top_France (0.000000)\n"
     ]
    }
   ],
   "source": [
    "# Print the feature ranking\n",
    "importances = dt.feature_importances_\n",
    "indices = np.argsort(importances)[::-1]\n",
    "\n",
    "print(\"Feature ranking:\")\n",
    "for f in range(X.shape[1]):\n",
    "    print(\"%d. %s (%f)\" % (f + 1, X.columns[indices[f]], importances[indices[f]]))\n"
   ]
  },
  {
   "cell_type": "code",
   "execution_count": 26,
   "metadata": {
    "collapsed": false
   },
   "outputs": [],
   "source": [
    "export_graphviz(dt, out_file='tree.dot',feature_names = X.columns)"
   ]
  },
  {
   "cell_type": "code",
   "execution_count": 47,
   "metadata": {
    "collapsed": false
   },
   "outputs": [
    {
     "name": "stdout",
     "output_type": "stream",
     "text": [
      "    p_thres       fpr       tpr\n",
      "0  1.000000  0.000000  0.551159\n",
      "1  0.355596  0.010164  0.594969\n",
      "2  0.201737  0.061682  0.717354\n",
      "3  0.051084  0.080053  0.723007\n",
      "4  0.045064  0.084609  0.726116\n",
      "5  0.031918  0.243662  0.771905\n",
      "6  0.030354  0.888668  0.966930\n",
      "7  0.028986  0.889603  0.967496\n",
      "8  0.026652  1.000000  0.999717\n",
      "9  0.000000  1.000000  1.000000\n"
     ]
    },
    {
     "data": {
      "image/png": "[encoded data removed]",
      "text/plain": [
       "<matplotlib.figure.Figure at 0x114c97cd0>"
      ]
     },
     "metadata": {},
     "output_type": "display_data"
    }
   ],
   "source": [
    "from sklearn.metrics import roc_curve, auc\n",
    "\n",
    "preds = dt.predict_proba(X_test)[:,1]\n",
    "fpr, tpr, thres = roc_curve(y_test, preds)\n",
    "roc_auc = auc(fpr, tpr)\n",
    "\n",
    "py.plot(fpr, tpr, color='r', label='ROC curve (area = %0.2f)' % roc_auc)\n",
    "py.plot([0, 1], [0, 1], color='b', linestyle='--')\n",
    "py.legend(loc=\"lower right\")\n",
    "py.xlabel('False Positive Rate')\n",
    "py.ylabel('True Positive Rate')\n",
    "\n",
    "print pd.DataFrame(np.transpose([thres, fpr, tpr]), columns=['p_thres','fpr','tpr'])"
   ]
  },
  {
   "cell_type": "markdown",
   "metadata": {},
   "source": [
    "## The best cutoff p would be 0.2, because it has a low false pos rate and high true pos rate"
   ]
  },
  {
   "cell_type": "code",
   "execution_count": 72,
   "metadata": {
    "collapsed": false
   },
   "outputs": [
    {
     "name": "stdout",
     "output_type": "stream",
     "text": [
      "[0 0 0 ..., 0 0 0]\n",
      "0.69474849342\n",
      "0.710641399417\n",
      "[[102721      0]\n",
      " [  4964   5649]]\n",
      "[[34240     0]\n",
      " [ 1588  1950]]\n"
     ]
    }
   ],
   "source": [
    "def g(x):\n",
    "    return int(x)\n",
    "f = np.vectorize(g)\n",
    "\n",
    "ypred_train = f(dt.predict_proba(X_train)[:,1]>=0.36)\n",
    "ypred_test = f(dt.predict_proba(X_test)[:,1]>=0.36)\n",
    "\n",
    "print ypred_train\n",
    "\n",
    "print f1_score(y_train, ypred_train)\n",
    "print f1_score(y_test, ypred_test)\n",
    "\n",
    "print confusion_matrix(y_train, ypred_train)\n",
    "print confusion_matrix(y_test, ypred_test)"
   ]
  },
  {
   "cell_type": "code",
   "execution_count": null,
   "metadata": {
    "collapsed": true
   },
   "outputs": [],
   "source": []
  }
 ],
 "metadata": {
  "kernelspec": {
   "display_name": "Python 2",
   "language": "python",
   "name": "python2"
  },
  "language_info": {
   "codemirror_mode": {
    "name": "ipython",
    "version": 2
   },
   "file_extension": ".py",
   "mimetype": "text/x-python",
   "name": "python",
   "nbconvert_exporter": "python",
   "pygments_lexer": "ipython2",
   "version": "2.7.12"
  }
 },
 "nbformat": 4,
 "nbformat_minor": 1
}
