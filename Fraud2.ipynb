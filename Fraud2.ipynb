{
 "cells": [
  {
   "cell_type": "markdown",
   "metadata": {},
   "source": [
    "# Fraud Detection For Online Purchases\n",
    "\n",
    "> This exercise uses simulated transaction data to find potential fraud purchases.\n",
    "\n",
    "> Author: Menghan Xu\n",
    "\n",
    "> Date: 2016-10-01"
   ]
  },
  {
   "cell_type": "markdown",
   "metadata": {},
   "source": [
    "### Importing and Displaying Data"
   ]
  },
  {
   "cell_type": "code",
   "execution_count": 233,
   "metadata": {
    "collapsed": false
   },
   "outputs": [],
   "source": [
    "import pandas as pd\n",
    "import numpy as np\n",
    "import pylab as plt\n",
    "from IPython.display import display\n",
    "\n",
    "%matplotlib inline\n",
    "\n",
    "transactions = pd.read_csv(\"Fraud_Data.csv\")\n",
    "ip_country_xw = pd.read_csv(\"IpAddress_to_Country.csv\")\n",
    "\n",
    "# convert timestamp string to pd.timestamp\n",
    "transactions.signup_time = transactions.signup_time.apply(pd.Timestamp)\n",
    "transactions.purchase_time = transactions.purchase_time.apply(pd.Timestamp)\n",
    "\n",
    "# rename class to fraud because class is a reserved word\n",
    "transactions.rename(columns={'class':'fraud'}, inplace=True)\n",
    "# sort crosswalk by lower ip bound\n",
    "ip_country_xw.sort_values(by='lower_bound_ip_address', inplace=True)"
   ]
  },
  {
   "cell_type": "code",
   "execution_count": 234,
   "metadata": {
    "collapsed": false
   },
   "outputs": [
    {
     "data": {
      "text/html": [
       "<div>\n",
       "<table border=\"1\" class=\"dataframe\">\n",
       "  <thead>\n",
       "    <tr style=\"text-align: right;\">\n",
       "      <th></th>\n",
       "      <th>user_id</th>\n",
       "      <th>signup_time</th>\n",
       "      <th>purchase_time</th>\n",
       "      <th>purchase_value</th>\n",
       "      <th>device_id</th>\n",
       "      <th>source</th>\n",
       "      <th>browser</th>\n",
       "      <th>sex</th>\n",
       "      <th>age</th>\n",
       "      <th>ip_address</th>\n",
       "      <th>fraud</th>\n",
       "    </tr>\n",
       "  </thead>\n",
       "  <tbody>\n",
       "    <tr>\n",
       "      <th>0</th>\n",
       "      <td>22058</td>\n",
       "      <td>2015-02-24 22:55:49</td>\n",
       "      <td>2015-04-18 02:47:11</td>\n",
       "      <td>34</td>\n",
       "      <td>QVPSPJUOCKZAR</td>\n",
       "      <td>SEO</td>\n",
       "      <td>Chrome</td>\n",
       "      <td>M</td>\n",
       "      <td>39</td>\n",
       "      <td>7.327584e+08</td>\n",
       "      <td>0</td>\n",
       "    </tr>\n",
       "  </tbody>\n",
       "</table>\n",
       "</div>"
      ],
      "text/plain": [
       "   user_id         signup_time       purchase_time  purchase_value  \\\n",
       "0    22058 2015-02-24 22:55:49 2015-04-18 02:47:11              34   \n",
       "\n",
       "       device_id source browser sex  age    ip_address  fraud  \n",
       "0  QVPSPJUOCKZAR    SEO  Chrome   M   39  7.327584e+08      0  "
      ]
     },
     "metadata": {},
     "output_type": "display_data"
    },
    {
     "name": "stdout",
     "output_type": "stream",
     "text": [
      "Transaction dataset has 151112 samples with 11 features each.\n"
     ]
    }
   ],
   "source": [
    "display(transactions.head(1))\n",
    "print \"Transaction dataset has {} samples with {} features each.\".format(*transactions.shape)"
   ]
  },
  {
   "cell_type": "code",
   "execution_count": 235,
   "metadata": {
    "collapsed": false
   },
   "outputs": [
    {
     "data": {
      "text/html": [
       "<div>\n",
       "<table border=\"1\" class=\"dataframe\">\n",
       "  <thead>\n",
       "    <tr style=\"text-align: right;\">\n",
       "      <th></th>\n",
       "      <th>lower_bound_ip_address</th>\n",
       "      <th>upper_bound_ip_address</th>\n",
       "      <th>country</th>\n",
       "    </tr>\n",
       "  </thead>\n",
       "  <tbody>\n",
       "    <tr>\n",
       "      <th>0</th>\n",
       "      <td>16777216.0</td>\n",
       "      <td>16777471</td>\n",
       "      <td>Australia</td>\n",
       "    </tr>\n",
       "  </tbody>\n",
       "</table>\n",
       "</div>"
      ],
      "text/plain": [
       "   lower_bound_ip_address  upper_bound_ip_address    country\n",
       "0              16777216.0                16777471  Australia"
      ]
     },
     "metadata": {},
     "output_type": "display_data"
    },
    {
     "name": "stdout",
     "output_type": "stream",
     "text": [
      "IP address to country dataset has 138846 samples with 3 features each.\n"
     ]
    }
   ],
   "source": [
    "display(ip_country_xw.head(1))\n",
    "print \"IP address to country dataset has {} samples with {} features each.\".format(*ip_country_xw.shape)"
   ]
  },
  {
   "cell_type": "markdown",
   "metadata": {},
   "source": [
    "### Performing initial checks"
   ]
  },
  {
   "cell_type": "code",
   "execution_count": 236,
   "metadata": {
    "collapsed": false
   },
   "outputs": [
    {
     "name": "stdout",
     "output_type": "stream",
     "text": [
      "False\n",
      "False\n"
     ]
    }
   ],
   "source": [
    "# confirm there are no null values in either datasets\n",
    "print transactions.isnull().values.any()\n",
    "print ip_country_xw.isnull().values.any()"
   ]
  },
  {
   "cell_type": "code",
   "execution_count": 237,
   "metadata": {
    "collapsed": false
   },
   "outputs": [
    {
     "name": "stdout",
     "output_type": "stream",
     "text": [
      "Frequency of number of transactions per user_id\n",
      "1    1.0\n",
      "Name: user_id, dtype: float64\n",
      "\n",
      "Frequency of number of transactions per device_id\n",
      "1    0.955239\n",
      "2    0.038614\n",
      "3    0.000652\n",
      "4    0.000029\n",
      "5    0.000094\n",
      "Name: device_id, dtype: float64\n",
      "\n",
      "Frequency of number of transactions per ip_address\n",
      "1    0.994704\n",
      "2    0.000007\n",
      "3    0.000014\n",
      "4    0.000028\n",
      "5    0.000091\n",
      "Name: ip_address, dtype: float64\n",
      "\n"
     ]
    }
   ],
   "source": [
    "# check for uniqueness of user_id, device_id, and ip_address\n",
    "# found that user_id is unique, the other two are not\n",
    "for var in ['user_id','device_id','ip_address']:\n",
    "    g = transactions.groupby(by=var)[var]\n",
    "    print \"Frequency of number of transactions per\", var\n",
    "    print g.count().value_counts(sort=False, normalize=True)[0:5]\n",
    "    print"
   ]
  },
  {
   "cell_type": "code",
   "execution_count": 238,
   "metadata": {
    "collapsed": false
   },
   "outputs": [
    {
     "name": "stdout",
     "output_type": "stream",
     "text": [
      "Range of signup_time is 2015-01-01 00:00:42 2015-08-18 04:40:29\n",
      "Range of purchase_time is 2015-01-01 00:00:44 2015-12-16 02:56:05\n",
      "Range of purchase_value is 9 154\n",
      "Range of age is 18 76\n"
     ]
    }
   ],
   "source": [
    "# check min and max of continuous vars to see if they make sense\n",
    "for var in ['signup_time','purchase_time','purchase_value', 'age']:\n",
    "    print \"Range of\", var, \"is\", transactions[var].min(), transactions[var].max()"
   ]
  },
  {
   "cell_type": "code",
   "execution_count": 239,
   "metadata": {
    "collapsed": false
   },
   "outputs": [
    {
     "name": "stdout",
     "output_type": "stream",
     "text": [
      "False\n"
     ]
    }
   ],
   "source": [
    "# confirm there is no overlap in ip address\n",
    "nextrow = ip_country_xw.shift(-1)\n",
    "print (ip_country_xw.upper_bound_ip_address >= nextrow.lower_bound_ip_address).any()"
   ]
  },
  {
   "cell_type": "markdown",
   "metadata": {},
   "source": [
    "### Assign each transaction a country based on ip address"
   ]
  },
  {
   "cell_type": "code",
   "execution_count": 240,
   "metadata": {
    "collapsed": false
   },
   "outputs": [],
   "source": [
    "# assign each transaction an index based on lower ip bound\n",
    "start_idx = np.searchsorted(ip_country_xw['lower_bound_ip_address'], transactions['ip_address'], side='right')-1\n",
    "# assign each transaction an index based on upper ip bound\n",
    "end_idx = np.searchsorted(ip_country_xw['upper_bound_ip_address'], transactions['ip_address'])\n",
    "\n",
    "# if the two indices agree, assign that number; otherwise assign -1 as none\n",
    "transactions['idx'] = [x if x==y else -1 for x, y in zip(start_idx, end_idx)]\n",
    "\n",
    "# merge the data based on index\n",
    "ip_country_xw['idx'] = ip_country_xw.index\n",
    "full_data = transactions.merge(ip_country_xw, how='left', on='idx').drop(['lower_bound_ip_address', 'upper_bound_ip_address','idx'],axis=1)\n",
    "\n",
    "full_data['country'] = full_data['country'].apply(lambda x: 'NA' if pd.isnull(x) else x)"
   ]
  },
  {
   "cell_type": "code",
   "execution_count": 241,
   "metadata": {
    "collapsed": false
   },
   "outputs": [
    {
     "data": {
      "text/plain": [
       "United States     0.384146\n",
       "NA                0.145362\n",
       "China             0.079663\n",
       "Japan             0.048348\n",
       "United Kingdom    0.029713\n",
       "Name: country, dtype: float64"
      ]
     },
     "execution_count": 241,
     "metadata": {},
     "output_type": "execute_result"
    }
   ],
   "source": [
    "full_data.country.value_counts(normalize=True)[0:5]"
   ]
  },
  {
   "cell_type": "markdown",
   "metadata": {},
   "source": [
    "### Create additional variables"
   ]
  },
  {
   "cell_type": "code",
   "execution_count": 242,
   "metadata": {
    "collapsed": false
   },
   "outputs": [],
   "source": [
    "# add time-related info\n",
    "full_data['lapsed_time'] = full_data['purchase_time'] - full_data['signup_time']\n",
    "full_data['lapsed_secs'] = full_data['lapsed_time'].map(lambda x: x.seconds)\n",
    "\n",
    "full_data['signup_mon'] = full_data['signup_time'].map(lambda x: x.month)\n",
    "full_data['purchase_mon'] = full_data['purchase_time'].map(lambda x: x.month)\n",
    "full_data['signup_weekday'] = full_data['signup_time'].map(lambda x: x.weekday())\n",
    "full_data['purchase_weekday'] = full_data['purchase_time'].map(lambda x: x.weekday())\n",
    "\n",
    "# add unique counts\n",
    "full_data['device_counts'] = full_data.groupby('device_id')['device_id'].transform('count')\n",
    "full_data['ip_counts'] = full_data.groupby('ip_address')['ip_address'].transform('count')"
   ]
  },
  {
   "cell_type": "code",
   "execution_count": 243,
   "metadata": {
    "collapsed": false
   },
   "outputs": [
    {
     "data": {
      "text/html": [
       "<div>\n",
       "<table border=\"1\" class=\"dataframe\">\n",
       "  <thead>\n",
       "    <tr style=\"text-align: right;\">\n",
       "      <th></th>\n",
       "      <th>user_id</th>\n",
       "      <th>signup_time</th>\n",
       "      <th>purchase_time</th>\n",
       "      <th>purchase_value</th>\n",
       "      <th>device_id</th>\n",
       "      <th>source</th>\n",
       "      <th>browser</th>\n",
       "      <th>sex</th>\n",
       "      <th>age</th>\n",
       "      <th>ip_address</th>\n",
       "      <th>fraud</th>\n",
       "      <th>country</th>\n",
       "      <th>lapsed_time</th>\n",
       "      <th>lapsed_secs</th>\n",
       "      <th>signup_mon</th>\n",
       "      <th>purchase_mon</th>\n",
       "      <th>signup_weekday</th>\n",
       "      <th>purchase_weekday</th>\n",
       "      <th>device_counts</th>\n",
       "      <th>ip_counts</th>\n",
       "    </tr>\n",
       "  </thead>\n",
       "  <tbody>\n",
       "    <tr>\n",
       "      <th>0</th>\n",
       "      <td>22058</td>\n",
       "      <td>2015-02-24 22:55:49</td>\n",
       "      <td>2015-04-18 02:47:11</td>\n",
       "      <td>34</td>\n",
       "      <td>QVPSPJUOCKZAR</td>\n",
       "      <td>SEO</td>\n",
       "      <td>Chrome</td>\n",
       "      <td>M</td>\n",
       "      <td>39</td>\n",
       "      <td>7.327584e+08</td>\n",
       "      <td>0</td>\n",
       "      <td>Japan</td>\n",
       "      <td>52 days 03:51:22</td>\n",
       "      <td>13882</td>\n",
       "      <td>2</td>\n",
       "      <td>4</td>\n",
       "      <td>1</td>\n",
       "      <td>5</td>\n",
       "      <td>1</td>\n",
       "      <td>1</td>\n",
       "    </tr>\n",
       "  </tbody>\n",
       "</table>\n",
       "</div>"
      ],
      "text/plain": [
       "   user_id         signup_time       purchase_time  purchase_value  \\\n",
       "0    22058 2015-02-24 22:55:49 2015-04-18 02:47:11              34   \n",
       "\n",
       "       device_id source browser sex  age    ip_address  fraud country  \\\n",
       "0  QVPSPJUOCKZAR    SEO  Chrome   M   39  7.327584e+08      0   Japan   \n",
       "\n",
       "       lapsed_time  lapsed_secs  signup_mon  purchase_mon  signup_weekday  \\\n",
       "0 52 days 03:51:22        13882           2             4               1   \n",
       "\n",
       "   purchase_weekday  device_counts  ip_counts  \n",
       "0                 5              1          1  "
      ]
     },
     "metadata": {},
     "output_type": "display_data"
    }
   ],
   "source": [
    "display(full_data.head(1))"
   ]
  },
  {
   "cell_type": "markdown",
   "metadata": {},
   "source": [
    "### Initial investigation of the importance of each feature"
   ]
  },
  {
   "cell_type": "code",
   "execution_count": 244,
   "metadata": {
    "collapsed": false
   },
   "outputs": [
    {
     "data": {
      "text/plain": [
       "0.093645772671925462"
      ]
     },
     "execution_count": 244,
     "metadata": {},
     "output_type": "execute_result"
    }
   ],
   "source": [
    "# check the overall fraud percentage\n",
    "full_data.fraud.mean()"
   ]
  },
  {
   "cell_type": "code",
   "execution_count": 245,
   "metadata": {
    "collapsed": true
   },
   "outputs": [],
   "source": [
    "# A table that is broken down by examvar and shows the sum and rate of the target var\n",
    "def freq_table(data, examvar, target):\n",
    "    g = data.groupby(examvar)[target]\n",
    "    return pd.concat([g.count().rename('total'), g.sum(), g.mean().rename('rate')], axis=1)"
   ]
  },
  {
   "cell_type": "code",
   "execution_count": 246,
   "metadata": {
    "collapsed": false,
    "scrolled": true
   },
   "outputs": [
    {
     "name": "stdout",
     "output_type": "stream",
     "text": [
      "        total  fraud      rate\n",
      "source                        \n",
      "Ads     59881   5513  0.092066\n",
      "Direct  30616   3226  0.105370\n",
      "SEO     60615   5412  0.089285\n",
      "P-val of chi2 test on source is 7.98199083644e-15 \n",
      "\n",
      "         total  fraud      rate\n",
      "browser                        \n",
      "Chrome   61432   6069  0.098792\n",
      "FireFox  24610   2342  0.095165\n",
      "IE       36727   3187  0.086775\n",
      "Opera     3676    328  0.089227\n",
      "Safari   24667   2225  0.090201\n",
      "P-val of chi2 test on browser is 4.91602835036e-09 \n",
      "\n",
      "     total  fraud      rate\n",
      "sex                        \n",
      "F    62819   5717  0.091007\n",
      "M    88293   8434  0.095523\n",
      "P-val of chi2 test on sex is 0.00307265426324 \n",
      "\n",
      "            total  fraud      rate\n",
      "signup_mon                        \n",
      "1           26978   8494  0.314849\n",
      "2           17535    818  0.046650\n",
      "3           19555    879  0.044950\n",
      "4           18895    872  0.046150\n",
      "5           19338    844  0.043645\n",
      "6           18633    859  0.046101\n",
      "7           19454    897  0.046109\n",
      "8           10724    488  0.045505\n",
      "P-val of chi2 test on signup_mon is 0.0 \n",
      "\n",
      "              total  fraud      rate\n",
      "purchase_mon                        \n",
      "1             10097   7723  0.764881\n",
      "2              6449    291  0.045123\n",
      "3             12090    545  0.045079\n",
      "4             16551    740  0.044710\n",
      "5             19364    921  0.047562\n",
      "6             18908    842  0.044531\n",
      "7             19507    900  0.046137\n",
      "8             18662    833  0.044636\n",
      "9             14347    663  0.046212\n",
      "10             9815    442  0.045033\n",
      "11             4743    216  0.045541\n",
      "12              579     35  0.060449\n",
      "P-val of chi2 test on purchase_mon is 0.0 \n",
      "\n"
     ]
    }
   ],
   "source": [
    "from scipy.stats import chi2_contingency\n",
    "\n",
    "# display the frequency table for each discrete variable, calculate chi2 statistics\n",
    "def examine_discrete_vars (data, target, examvars):\n",
    "         \n",
    "    for idx, var in enumerate(examvars):\n",
    "        \n",
    "        print freq_table(data, var, target)\n",
    "        p = chi2_contingency(pd.crosstab(full_data[var], full_data[target]))[1]\n",
    "        print \"P-val of chi2 test on\", var, \"is\", p, \"\\n\"\n",
    "\n",
    "examine_discrete_vars (full_data, 'fraud', ['source','browser','sex','signup_mon','purchase_mon'])"
   ]
  },
  {
   "cell_type": "code",
   "execution_count": 247,
   "metadata": {
    "collapsed": false
   },
   "outputs": [
    {
     "name": "stdout",
     "output_type": "stream",
     "text": [
      "LEGEND: red means fraud is true, green means fraud is false.\n"
     ]
    },
    {
     "data": {
      "image/png": "[encoded data removed]",
      "text/plain": [
       "<matplotlib.figure.Figure at 0x1147fb410>"
      ]
     },
     "metadata": {},
     "output_type": "display_data"
    }
   ],
   "source": [
    "# create a stacked histogram of each continuous variable\n",
    "def examine_cont_vars (data, target, examvars):\n",
    "    target0 = data.loc[data[target]==0]\n",
    "    target1 = data.loc[data[target]==1]\n",
    "    \n",
    "    fig, ax = plt.subplots(len(examvars),1, figsize=(6,4*len(examvars)))    \n",
    "    print 'LEGEND: red means', target, 'is true, green means', target, 'is false.'\n",
    "    \n",
    "    for idx, var in enumerate(examvars):\n",
    "        \n",
    "        ax[idx].hist([target1[var], target0[var]], bins=20, stacked=True, color=['r','g'])\n",
    "        ax[idx].set_title(var)\n",
    "\n",
    "examine_cont_vars (full_data, 'fraud', ['age','lapsed_secs','device_counts','ip_counts'])"
   ]
  },
  {
   "cell_type": "markdown",
   "metadata": {},
   "source": [
    "## Fraud percent is very high when lapsed time is small. Examine further\n"
   ]
  },
  {
   "cell_type": "code",
   "execution_count": 248,
   "metadata": {
    "collapsed": false,
    "scrolled": true
   },
   "outputs": [
    {
     "data": {
      "text/html": [
       "<div>\n",
       "<table border=\"1\" class=\"dataframe\">\n",
       "  <thead>\n",
       "    <tr style=\"text-align: right;\">\n",
       "      <th></th>\n",
       "      <th>total</th>\n",
       "      <th>fraud</th>\n",
       "      <th>rate</th>\n",
       "    </tr>\n",
       "    <tr>\n",
       "      <th>lapsed_secs</th>\n",
       "      <th></th>\n",
       "      <th></th>\n",
       "      <th></th>\n",
       "    </tr>\n",
       "  </thead>\n",
       "  <tbody>\n",
       "    <tr>\n",
       "      <th>1</th>\n",
       "      <td>7602</td>\n",
       "      <td>7600</td>\n",
       "      <td>0.999737</td>\n",
       "    </tr>\n",
       "    <tr>\n",
       "      <th>2</th>\n",
       "      <td>3</td>\n",
       "      <td>0</td>\n",
       "      <td>0.000000</td>\n",
       "    </tr>\n",
       "    <tr>\n",
       "      <th>3</th>\n",
       "      <td>1</td>\n",
       "      <td>0</td>\n",
       "      <td>0.000000</td>\n",
       "    </tr>\n",
       "    <tr>\n",
       "      <th>4</th>\n",
       "      <td>3</td>\n",
       "      <td>1</td>\n",
       "      <td>0.333333</td>\n",
       "    </tr>\n",
       "    <tr>\n",
       "      <th>6</th>\n",
       "      <td>1</td>\n",
       "      <td>0</td>\n",
       "      <td>0.000000</td>\n",
       "    </tr>\n",
       "  </tbody>\n",
       "</table>\n",
       "</div>"
      ],
      "text/plain": [
       "             total  fraud      rate\n",
       "lapsed_secs                        \n",
       "1             7602   7600  0.999737\n",
       "2                3      0  0.000000\n",
       "3                1      0  0.000000\n",
       "4                3      1  0.333333\n",
       "6                1      0  0.000000"
      ]
     },
     "execution_count": 248,
     "metadata": {},
     "output_type": "execute_result"
    }
   ],
   "source": [
    "freq_table(full_data, 'lapsed_secs', 'fraud').head()"
   ]
  },
  {
   "cell_type": "markdown",
   "metadata": {},
   "source": [
    "### When the purchase is done within the second of signup, 99.9% of time it is fraud!\n",
    "\n",
    "> It's not surprising if the fraud is done electronically. This may represent one type of fraud.\n",
    "\n",
    "> The 2 nonfraud transactions may be labeled wrongly. Notify company.\n",
    "\n",
    "> Re-examine the data eliminating those observations"
   ]
  },
  {
   "cell_type": "code",
   "execution_count": 249,
   "metadata": {
    "collapsed": false
   },
   "outputs": [
    {
     "name": "stdout",
     "output_type": "stream",
     "text": [
      "0    136959\n",
      "1      6551\n",
      "Name: fraud, dtype: int64\n",
      "        total  fraud      rate\n",
      "source                        \n",
      "Ads     56874   2506  0.044062\n",
      "Direct  28959   1570  0.054215\n",
      "SEO     57677   2475  0.042911\n",
      "P-val of chi2 test on source is 7.98199083644e-15 \n",
      "\n",
      "         total  fraud      rate\n",
      "browser                        \n",
      "Chrome   58002   2639  0.045498\n",
      "FireFox  23330   1063  0.045564\n",
      "IE       35135   1595  0.045396\n",
      "Opera     3507    160  0.045623\n",
      "Safari   23536   1094  0.046482\n",
      "P-val of chi2 test on browser is 4.91602835036e-09 \n",
      "\n",
      "     total  fraud      rate\n",
      "sex                        \n",
      "F    59805   2703  0.045197\n",
      "M    83705   3848  0.045971\n",
      "P-val of chi2 test on sex is 0.00307265426324 \n",
      "\n",
      "            total  fraud      rate\n",
      "signup_mon                        \n",
      "1           19378    894  0.046135\n",
      "2           17535    818  0.046650\n",
      "3           19553    879  0.044955\n",
      "4           18895    872  0.046150\n",
      "5           19338    844  0.043645\n",
      "6           18633    859  0.046101\n",
      "7           19454    897  0.046109\n",
      "8           10724    488  0.045505\n",
      "P-val of chi2 test on signup_mon is 0.0 \n",
      "\n",
      "              total  fraud      rate\n",
      "purchase_mon                        \n",
      "1              2497    123  0.049259\n",
      "2              6449    291  0.045123\n",
      "3             12089    545  0.045082\n",
      "4             16551    740  0.044710\n",
      "5             19364    921  0.047562\n",
      "6             18907    842  0.044534\n",
      "7             19507    900  0.046137\n",
      "8             18662    833  0.044636\n",
      "9             14347    663  0.046212\n",
      "10             9815    442  0.045033\n",
      "11             4743    216  0.045541\n",
      "12              579     35  0.060449\n",
      "P-val of chi2 test on purchase_mon is 0.0 \n",
      "\n",
      "LEGEND: red means fraud is true, green means fraud is false.\n"
     ]
    },
    {
     "data": {
      "image/png": "[encoded data removed]",
      "text/plain": [
       "<matplotlib.figure.Figure at 0x1024b8510>"
      ]
     },
     "metadata": {},
     "output_type": "display_data"
    }
   ],
   "source": [
    "# make a reduced dataset that contains only transactions > 1 sec\n",
    "red_data = full_data.loc[full_data.lapsed_secs>1]\n",
    "print red_data['fraud'].value_counts()\n",
    "examine_discrete_vars (red_data, 'fraud', ['source','browser','sex','signup_mon','purchase_mon'])\n",
    "examine_cont_vars (red_data, 'fraud', ['age','lapsed_secs','device_counts','ip_counts'])"
   ]
  },
  {
   "cell_type": "code",
   "execution_count": 250,
   "metadata": {
    "collapsed": false
   },
   "outputs": [
    {
     "data": {
      "text/html": [
       "<div>\n",
       "<table border=\"1\" class=\"dataframe\">\n",
       "  <thead>\n",
       "    <tr style=\"text-align: right;\">\n",
       "      <th></th>\n",
       "      <th>purchase_value</th>\n",
       "      <th>age</th>\n",
       "      <th>lapsed_secs</th>\n",
       "      <th>device_counts</th>\n",
       "      <th>ip_counts</th>\n",
       "      <th>source_Ads</th>\n",
       "      <th>source_Direct</th>\n",
       "      <th>source_SEO</th>\n",
       "      <th>sex_F</th>\n",
       "      <th>sex_M</th>\n",
       "      <th>top_country_China</th>\n",
       "      <th>top_country_Japan</th>\n",
       "      <th>top_country_NA</th>\n",
       "      <th>top_country_United States</th>\n",
       "      <th>top_country_other</th>\n",
       "    </tr>\n",
       "  </thead>\n",
       "  <tbody>\n",
       "    <tr>\n",
       "      <th>0</th>\n",
       "      <td>34</td>\n",
       "      <td>39</td>\n",
       "      <td>13882</td>\n",
       "      <td>1</td>\n",
       "      <td>1</td>\n",
       "      <td>0.0</td>\n",
       "      <td>0.0</td>\n",
       "      <td>1.0</td>\n",
       "      <td>0.0</td>\n",
       "      <td>1.0</td>\n",
       "      <td>0.0</td>\n",
       "      <td>1.0</td>\n",
       "      <td>0.0</td>\n",
       "      <td>0.0</td>\n",
       "      <td>0.0</td>\n",
       "    </tr>\n",
       "  </tbody>\n",
       "</table>\n",
       "</div>"
      ],
      "text/plain": [
       "   purchase_value  age  lapsed_secs  device_counts  ip_counts  source_Ads  \\\n",
       "0              34   39        13882              1          1         0.0   \n",
       "\n",
       "   source_Direct  source_SEO  sex_F  sex_M  top_country_China  \\\n",
       "0            0.0         1.0    0.0    1.0                0.0   \n",
       "\n",
       "   top_country_Japan  top_country_NA  top_country_United States  \\\n",
       "0                1.0             0.0                        0.0   \n",
       "\n",
       "   top_country_other  \n",
       "0                0.0  "
      ]
     },
     "execution_count": 250,
     "metadata": {},
     "output_type": "execute_result"
    }
   ],
   "source": [
    "X = red_data[['purchase_value','source','sex','age','lapsed_secs','device_counts','ip_counts','country']]\n",
    "\n",
    "# make dummy variables for only the top countries to avoid overfitting\n",
    "top_countries = X['country'].value_counts()[0:4]\n",
    "C = X.country.apply(lambda x: x if x in top_countries else 'other')\n",
    "X.loc[:,'top_country'] = C\n",
    "\n",
    "X = pd.get_dummies(X.drop('country', axis=1))\n",
    "y = np.ravel(red_data[['fraud']])\n",
    "X.head(1)"
   ]
  },
  {
   "cell_type": "markdown",
   "metadata": {},
   "source": [
    "### Fitting a random forest model because \n",
    "> 1. Does not need much pre-processing like feature scaling or adding interaction terms\n",
    "\n",
    "> 2. Runs fast compared to other models such as SVM"
   ]
  },
  {
   "cell_type": "code",
   "execution_count": 251,
   "metadata": {
    "collapsed": false
   },
   "outputs": [
    {
     "name": "stdout",
     "output_type": "stream",
     "text": [
      "GridSearchCV took 52.90 seconds.\n",
      "{'max_features': 8, 'min_samples_split': 2, 'max_depth': 3}\n",
      "Tuned model has a training auc score of 0.6752.\n",
      "Tuned model has a testing auc score of 0.6596.\n",
      "[[102719      0]\n",
      " [  4913      0]]\n",
      "[[34240     0]\n",
      " [ 1638     0]]\n"
     ]
    }
   ],
   "source": [
    "from sklearn.ensemble import RandomForestClassifier\n",
    "from sklearn.model_selection import train_test_split\n",
    "from sklearn.metrics import confusion_matrix, f1_score, make_scorer, roc_curve, roc_auc_score\n",
    "from sklearn.model_selection import GridSearchCV, StratifiedShuffleSplit\n",
    "import time\n",
    "\n",
    "X_train, X_test, y_train, y_test = train_test_split(X, y, stratify=y, random_state=0)\n",
    "\n",
    "clf = RandomForestClassifier()\n",
    "# chose the auc score because it deals well with imbalanced classes\n",
    "auc_scorer = make_scorer(roc_auc_score)\n",
    "stratifiedCV = StratifiedShuffleSplit(n_splits=3, random_state=0)\n",
    "\n",
    "params = {'max_features':[8,9,10], 'min_samples_split':[2,3,4], 'max_depth':[3,4,5]}\n",
    "# params = {'max_features':[9], 'min_samples_split':[3], 'max_depth':[4]}  # test params\n",
    "\n",
    "starttime=time.time()\n",
    "grid_search = GridSearchCV(estimator=clf, param_grid=params, scoring=auc_scorer, cv = stratifiedCV)\n",
    "grid_search.fit(X_train, y_train)\n",
    "print \"GridSearchCV took {:.2f} seconds.\".format(time.time()-starttime)\n",
    "\n",
    "print(grid_search.best_params_)\n",
    "clf = grid_search.best_estimator_\n",
    "\n",
    "# Report the final F1 score for training and testing after parameter tuning\n",
    "print \"Tuned model has a training auc score of {:.4f}.\".format(roc_auc_score(y_train, clf.predict_proba(X_train)[:,1]))\n",
    "print \"Tuned model has a testing auc score of {:.4f}.\".format(roc_auc_score(y_test, clf.predict_proba(X_test)[:,1]))\n",
    "\n",
    "print confusion_matrix(y_train, clf.predict(X_train))\n",
    "print confusion_matrix(y_test, clf.predict(X_test))"
   ]
  },
  {
   "cell_type": "markdown",
   "metadata": {},
   "source": [
    "### The zeros for the predicted \"y\"s in the confusion matrix are expected, since our class is imbalanced and there is no strong predictor. But it's not an issue because we care more about the \"probability\" instead of a binary classification."
   ]
  },
  {
   "cell_type": "code",
   "execution_count": 252,
   "metadata": {
    "collapsed": false
   },
   "outputs": [
    {
     "name": "stdout",
     "output_type": "stream",
     "text": [
      "Feature ranking:\n",
      "1. device_counts (0.920243)\n",
      "2. source_Direct (0.050689)\n",
      "3. ip_counts (0.009929)\n",
      "4. lapsed_secs (0.005288)\n",
      "5. age (0.004974)\n",
      "6. purchase_value (0.004811)\n",
      "7. source_SEO (0.003023)\n",
      "8. source_Ads (0.000591)\n",
      "9. sex_F (0.000178)\n",
      "10. sex_M (0.000152)\n",
      "11. top_country_NA (0.000070)\n",
      "12. top_country_Japan (0.000052)\n",
      "13. top_country_other (0.000000)\n",
      "14. top_country_United States (0.000000)\n",
      "15. top_country_China (0.000000)\n"
     ]
    }
   ],
   "source": [
    "# Print the feature ranking\n",
    "importances = clf.feature_importances_\n",
    "indices = np.argsort(importances)[::-1]\n",
    "\n",
    "print(\"Feature ranking:\")\n",
    "for f in range(X.shape[1]):\n",
    "    print(\"%d. %s (%f)\" % (f + 1, X.columns[indices[f]], importances[indices[f]]))"
   ]
  },
  {
   "cell_type": "code",
   "execution_count": 254,
   "metadata": {
    "collapsed": false
   },
   "outputs": [
    {
     "name": "stdout",
     "output_type": "stream",
     "text": [
      "     p_thres       fpr       tpr      slope\n",
      "0   1.295431  0.000000  0.000000        NaN\n",
      "1   0.295431  0.000321  0.003053   9.501610\n",
      "2   0.291165  0.000321  0.003663  11.401931\n",
      "3   0.271254  0.000467  0.004274   9.145299\n",
      "4   0.270652  0.010076  0.105006  10.421475\n",
      "5   0.267035  0.010193  0.105617  10.361927\n",
      "6   0.266387  0.010426  0.110501  10.598154\n",
      "7   0.243083  0.010456  0.110501  10.568550\n",
      "8   0.223643  0.010572  0.111111  10.509515\n",
      "9   0.221360  0.010631  0.111111  10.451770\n",
      "10  0.199128  0.035047  0.236264   6.741392\n",
      "11  0.198863  0.035076  0.236264   6.735779\n",
      "12  0.196845  0.035894  0.242979   6.769414\n",
      "13  0.193421  0.035923  0.242979   6.763910\n",
      "14  0.193401  0.036127  0.242979   6.725634\n",
      "15  0.187321  0.036624  0.245421   6.701135\n",
      "16  0.170264  0.036828  0.245421   6.663936\n",
      "17  0.168906  0.037500  0.246032   6.560847\n",
      "18  0.168886  0.062062  0.384615   6.197285\n",
      "19  0.166603  0.062237  0.384615   6.179836\n",
      "20  0.165289  0.062266  0.384615   6.176938\n",
      "21  0.165269  0.062266  0.385836   6.196547\n",
      "22  0.164616  0.062354  0.385836   6.187840\n",
      "23  0.151829  0.062471  0.385836   6.176268\n",
      "24  0.148807  0.062529  0.385836   6.170499\n",
      "25  0.128235  0.062675  0.385836   6.156122\n",
      "26  0.124029  0.063143  0.386447   6.120232\n",
      "27  0.123222  0.063201  0.386447   6.114576\n",
      "28  0.121195  0.063259  0.387057   6.118580\n",
      "29  0.120926  0.063347  0.387057   6.110118\n",
      "..       ...       ...       ...        ...\n",
      "56  0.038196  0.069100  0.390110   5.645546\n",
      "57  0.037725  0.069860  0.390720   5.592921\n",
      "58  0.037311  0.070502  0.391331   5.550609\n",
      "59  0.037281  0.070561  0.391331   5.546014\n",
      "60  0.037204  0.070590  0.391331   5.543719\n",
      "61  0.036981  0.070648  0.391331   5.539136\n",
      "62  0.036956  0.071057  0.391331   5.507263\n",
      "63  0.036840  0.074679  0.391331   5.240192\n",
      "64  0.036814  0.074708  0.391331   5.238143\n",
      "65  0.036733  0.074883  0.391331   5.225885\n",
      "66  0.036696  0.075321  0.391941   5.203596\n",
      "67  0.036322  0.075438  0.391941   5.195537\n",
      "68  0.036271  0.077541  0.393773   5.078261\n",
      "69  0.036240  0.077599  0.394383   5.082306\n",
      "70  0.036225  0.079848  0.394994   4.946815\n",
      "71  0.036207  0.080053  0.394994   4.934181\n",
      "72  0.036123  0.080111  0.394994   4.930584\n",
      "73  0.036071  0.082360  0.397436   4.825605\n",
      "74  0.035988  0.082447  0.397436   4.820476\n",
      "75  0.035946  0.082477  0.397436   4.818770\n",
      "76  0.035893  0.082564  0.398046   4.821050\n",
      "77  0.035867  0.095619  0.406593   4.252217\n",
      "78  0.035799  0.095678  0.406593   4.249621\n",
      "79  0.035778  0.098218  0.409035   4.164547\n",
      "80  0.035638  0.098277  0.409035   4.162072\n",
      "81  0.035636  0.098306  0.409035   4.160836\n",
      "82  0.035630  0.098364  0.409035   4.158365\n",
      "83  0.035592  0.098803  0.409035   4.139927\n",
      "84  0.035584  0.099387  0.409035   4.115596\n",
      "85  0.035495  0.099562  0.409035   4.108352\n",
      "\n",
      "[86 rows x 4 columns]\n"
     ]
    },
    {
     "data": {
      "image/png": "[encoded data removed]",
      "text/plain": [
       "<matplotlib.figure.Figure at 0x111b6ab50>"
      ]
     },
     "metadata": {},
     "output_type": "display_data"
    }
   ],
   "source": [
    "from sklearn.metrics import roc_curve, auc\n",
    "\n",
    "preds = clf.predict_proba(X_test)[:,1]\n",
    "fpr, tpr, thres = roc_curve(y_test, preds)\n",
    "roc_auc = auc(fpr, tpr)\n",
    "\n",
    "plt.plot(fpr, tpr, color='r', label='ROC curve (area = %0.4f)' % roc_auc)\n",
    "plt.plot([0, 1], [0, 1], color='b', linestyle='--')\n",
    "plt.legend(loc=\"lower right\")\n",
    "plt.xlabel('False Positive Rate')\n",
    "plt.ylabel('True Positive Rate')\n",
    "\n",
    "auc_table = pd.DataFrame(np.transpose([thres, fpr, tpr]), columns=['p_thres','fpr','tpr'])\n",
    "auc_table['slope'] = auc_table.tpr/auc_table.fpr\n",
    "print auc_table.loc[auc_table.fpr<=0.1]"
   ]
  },
  {
   "cell_type": "markdown",
   "metadata": {},
   "source": [
    "# Conclusion:\n",
    "\n",
    "### From earlier analysis and common sense, I would mark all transactions that are made within the second of signing up as fraud. In addition to declining the transaction, I would also advice the company to mark their user accounts for \"special attention\".\n",
    "\n",
    "### As of the rest of the transactions, I would run them through the random forest classifier, and classify the transactions that have a probability of fraud greater than 0.2 as \"potential fraud\". Instead of declining the purchase, I would create some friction for the user, possibilily asking for email verification and so on.\n",
    "\n"
   ]
  }
 ],
 "metadata": {
  "kernelspec": {
   "display_name": "Python 2",
   "language": "python",
   "name": "python2"
  },
  "language_info": {
   "codemirror_mode": {
    "name": "ipython",
    "version": 2
   },
   "file_extension": ".py",
   "mimetype": "text/x-python",
   "name": "python",
   "nbconvert_exporter": "python",
   "pygments_lexer": "ipython2",
   "version": "2.7.12"
  }
 },
 "nbformat": 4,
 "nbformat_minor": 1
}
